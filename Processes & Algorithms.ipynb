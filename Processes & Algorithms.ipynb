{
 "cells": [
  {
   "cell_type": "code",
   "execution_count": 27,
   "id": "48666c33",
   "metadata": {},
   "outputs": [
    {
     "name": "stdout",
     "output_type": "stream",
     "text": [
      "Enter first decimal  : 44\n",
      "Enter second decimal : 2\n",
      "----------------------------------------   \n",
      "1. Sum         =  46.0\n",
      "2. Product     =  88.0\n",
      "3. Difference  =  42.0\n",
      "4. Quotient    =  22.0\n"
     ]
    }
   ],
   "source": [
    "a=float(input(\"Enter first decimal  : \"))\n",
    "b=float(input(\"Enter second decimal : \"))\n",
    "print('----------------------------------------   ')\n",
    "\n",
    "q=a+b\n",
    "print('1. Sum         = ',q)\n",
    "w=a*b\n",
    "print('2. Product     = ',w)\n",
    "e=a-b\n",
    "print('3. Difference  = ',e)\n",
    "r=a/b\n",
    "print('4. Quotient    = ',r)"
   ]
  },
  {
   "cell_type": "code",
   "execution_count": 11,
   "id": "51218e0b",
   "metadata": {},
   "outputs": [
    {
     "name": "stdout",
     "output_type": "stream",
     "text": [
      "1. Enter the base of triangle   :  4\n",
      "2. Enter the hight of triangle  :  9\n",
      "   :- Area of the triangle      :   18.0\n"
     ]
    }
   ],
   "source": [
    "# output :\n",
    "#  1. The base of triangle is ________\n",
    "#  2. The hight of triangle is _______\n",
    "#  3. The area of triangle is _________\n",
    "\n",
    "a=float(input('1. Enter the base of triangle   :  '))\n",
    "b=float(input('2. Enter the hight of triangle  :  '))\n",
    "c=(1/2)*a*b\n",
    "print(\"   :- Area of the triangle      :  \", str(c))\n",
    "\n"
   ]
  },
  {
   "cell_type": "markdown",
   "id": "4015d625",
   "metadata": {},
   "source": [
    "# "
   ]
  },
  {
   "cell_type": "code",
   "execution_count": 16,
   "id": "87d60587",
   "metadata": {},
   "outputs": [
    {
     "name": "stdout",
     "output_type": "stream",
     "text": [
      "1. Enter the side  : 40\n",
      "Area of square :  1600.0\n",
      "perimeter of square :  160.0\n"
     ]
    }
   ],
   "source": [
    "# area of square and perimeter \n",
    "\n",
    "a=float(input(\"1. Enter the side  : \"))\n",
    "b=4*a\n",
    "c=a*a\n",
    "print(\"Area of square : \",str(c))\n",
    "print(\"perimeter of square : \", str(b))"
   ]
  },
  {
   "cell_type": "code",
   "execution_count": 2,
   "id": "fc335b00",
   "metadata": {},
   "outputs": [
    {
     "name": "stdout",
     "output_type": "stream",
     "text": [
      "Enter subject 1 marks : 86\n",
      "Enter dubject 2 marks : 98\n",
      "Enter subject 3 marks : 99\n",
      "Enter subject 4 marks : 65\n",
      "Enter subject 5 marks : 75\n",
      "\n",
      "Total marks obtained :  423.0\n",
      "Percentage obtained :   84.6 %\n"
     ]
    }
   ],
   "source": [
    "# OUTPUT\n",
    "# marks in subject 1 _____ out of 100\n",
    "# marks in subject 2 ______ out of 100\n",
    "# marks in subject 3 ______ out of 100\n",
    "# marks in subject 4 ______ out of 100\n",
    "# marks in subject 5 ______ out of 100\n",
    "# Total marks are ________\n",
    "# percentage obtained is _______\n",
    "\n",
    "a=float(input('Enter subject 1 marks : '))\n",
    "b=float(input('Enter dubject 2 marks : '))\n",
    "c=float(input('Enter subject 3 marks : '))\n",
    "d=float(input('Enter subject 4 marks : '))\n",
    "e=float(input('Enter subject 5 marks : '))\n",
    "\n",
    "x=a+b+c+d+e\n",
    "y=x/5\n",
    "print()\n",
    "print(\"Total marks obtained : \", str(x))\n",
    "print(\"Percentage obtained :  \", str(y),'%')\n",
    "\n",
    "\n",
    "\n",
    "\n",
    "\n",
    "\n"
   ]
  },
  {
   "cell_type": "markdown",
   "id": "6f535ffe",
   "metadata": {},
   "source": []
  },
  {
   "cell_type": "code",
   "execution_count": 7,
   "id": "4b7a6a5a",
   "metadata": {},
   "outputs": [
    {
     "name": "stdout",
     "output_type": "stream",
     "text": [
      "Enter the temperature =   7\n",
      "___________________________\n",
      "Winter is here  [*_*]\n",
      "Its a beautiful day\n"
     ]
    }
   ],
   "source": [
    "temp=float(input(\"Enter the temperature =   \"))\n",
    "print(\"___________________________\")\n",
    "if temp>30:\n",
    " print(\"It's a hot day \")\n",
    "elif temp>20:\n",
    " print(\"Its a pleasant day\")\n",
    "elif temp>10:\n",
    " print(\"It's a cold day\")\n",
    "else:\n",
    " print(\"Winter is here  [*_*]\")\n",
    "print(\"Its a beautiful day\")\n"
   ]
  },
  {
   "cell_type": "code",
   "execution_count": null,
   "id": "f41141fd",
   "metadata": {},
   "outputs": [],
   "source": [
    "# input marks of 5 sub calculate total percentage nad grade the result using % considering the following table "
   ]
  },
  {
   "cell_type": "code",
   "execution_count": 1,
   "id": "31ab442d",
   "metadata": {},
   "outputs": [
    {
     "name": "stdout",
     "output_type": "stream",
     "text": [
      "Enter subject 1 marks : 80\n",
      "Enter dubject 2 marks : 95\n",
      "Enter subject 3 marks : 20\n",
      "Enter subject 4 marks : 45\n",
      "Enter subject 5 marks : 65\n",
      "_______________________________________\n",
      "Total marks obtained :  305.0\n",
      "Percentage obtained  :  61.0 %\n",
      "--------------------\n",
      "your grade  :  C+\n",
      "--------------------\n",
      "sorry 🙏 you are not selected \n"
     ]
    }
   ],
   "source": [
    "a=float(input('Enter subject 1 marks : '))\n",
    "b=float(input('Enter dubject 2 marks : '))\n",
    "c=float(input('Enter subject 3 marks : '))\n",
    "d=float(input('Enter subject 4 marks : '))\n",
    "e=float(input('Enter subject 5 marks : '))\n",
    "x=a+b+c+d+e\n",
    "y=x/5\n",
    "print(\"_______________________________________\")\n",
    "print(\"Total marks obtained : \", str(x))\n",
    "print(\"Percentage obtained  : \", str(y),'%')\n",
    "print(\"--------------------\")      \n",
    "if y>95:\n",
    " print(\"your grade  :  A+\")\n",
    "elif y>90:\n",
    " print(\"your grade  :  A\")\n",
    "elif y>80:\n",
    " print(\"your grade  :  B+\")\n",
    "elif y>70:\n",
    " print(\"your grade  :  B\")\n",
    "elif y>60:\n",
    " print(\"your grade  :  C+\")\n",
    "elif y>50:\n",
    " print(\"your grade  :  C\")\n",
    "elif y>40:\n",
    " print(\"your grade  :  D+\")\n",
    "elif y>33:\n",
    " print(\"your grade  :  D\")\n",
    "else:\n",
    " print(\"your grade  :  F\")\n",
    "print(\"--------------------\")\n",
    "if y>90:\n",
    "    print(\"congratulations 🎊 you are selected in AAFT for Data Science \")\n",
    "else:\n",
    "    print(\"sorry 🙏 you are not selected \")\n"
   ]
  },
  {
   "cell_type": "markdown",
   "id": "27722089",
   "metadata": {},
   "source": [
    "## a=float(input('Enter subject 1 marks : '))\n",
    "b=float(input('Enter dubject 2 marks : '))\n",
    "c=float(input('Enter subject 3 marks : '))\n",
    "d=float(input('Enter subject 4 marks : '))\n",
    "e=float(input('Enter subject 5 marks : '))\n",
    "x=a+b+c+d+e\n",
    "y=x/5\n",
    "print(\"_______________________________________\")\n",
    "print(\"Total marks obtained : \", str(x))\n",
    "print(\"Percentage obtained  : \", str(y),'%')\n",
    "print(\"--------------------\")      \n",
    "if y>95:\n",
    " print(\"your grade  :  A+\")\n",
    "elif y>90:\n",
    " print(\"your grade  :  A\")\n",
    "elif y>80:\n",
    " print(\"your grade  :  B+\")\n",
    "elif y>70:\n",
    " print(\"your grade  :  B\")\n",
    "elif y>60:\n",
    " print(\"your grade  :  C+\")\n",
    "elif y>50:\n",
    " print(\"your grade  :  C\")\n",
    "elif y>40:\n",
    " print(\"your grade  :  D+\")\n",
    "elif y>33:\n",
    " print(\"your grade  :  D\")\n",
    "else:\n",
    " print(\"your grade  :  F\")\n",
    "print(\"--------------------\")\n",
    "if y>75:\n",
    "    print(\"congratulations 🎊 you are selected in AAFT for Data Science \")\n",
    "else:\n",
    "    print(\"sorry 🙏 you are not selected \")\n",
    "    \n"
   ]
  },
  {
   "cell_type": "code",
   "execution_count": 2,
   "id": "aaa9de9c",
   "metadata": {},
   "outputs": [
    {
     "name": "stdout",
     "output_type": "stream",
     "text": [
      "Enter your basic salary  :  60000\n",
      "\n",
      "HRA :  Rs 12000.0\n",
      "DA :  Rs 30000.0\n",
      "PF :  Rs 6000.0\n",
      "Allowance :  Rs 1700\n",
      "_____________________________\n",
      "Your gross salary :  Rs 97700.0\n"
     ]
    }
   ],
   "source": [
    "# Write a program to calculate gross salary of a person usuing his or her basic salary. ensure the basic salary is a inout propmt\n",
    "# HRA = 20% of basic salary\n",
    "# DA = 50% of basic salary\n",
    "# PF = 11% of basic salary \n",
    "# allowance is 1700 if basic salary \n",
    "#            is greater than rs 10000\n",
    "#            is 1500 if basic salary \n",
    "#            is greatyer than rs 5000\n",
    "#            is 1300 if basic salary\n",
    "#            is greater than rs 25000\n",
    "\n",
    "# gross salary = basic + HRA + DA + allowance - PF\n",
    "\n",
    "\n",
    "a=float(input(\"Enter your basic salary  :  \"))\n",
    "print()\n",
    "hra=0.2*a\n",
    "print(\"HRA : \",'Rs',hra)\n",
    "da=0.5*a\n",
    "print(\"DA : \",'Rs',da)\n",
    "pf=.1*a\n",
    "print(\"PF : \",'Rs',pf)\n",
    "if a>10000:\n",
    "    allowance=1700\n",
    "elif a>5000:\n",
    "    allowance=1500\n",
    "else:\n",
    "    allowance=1300\n",
    "print(\"Allowance : \",'Rs',allowance)\n",
    "print(\"_____________________________\")\n",
    "gross= (a + hra + da + allowance )- pf\n",
    "print(\"Your gross salary : \",'Rs',gross)\n"
   ]
  },
  {
   "cell_type": "code",
   "execution_count": 2,
   "id": "fd572fb8",
   "metadata": {},
   "outputs": [
    {
     "name": "stdout",
     "output_type": "stream",
     "text": [
      "Enter your basic salary  :  82000\n",
      "\n",
      "HRA :  Rs 16400.0\n",
      "DA :  Rs 41000.0\n",
      "PF :  Rs 8200.0\n",
      "Allowance :  Rs 1700\n",
      "_____________________________\n",
      "Your gross salary :  Rs 132900.0\n"
     ]
    }
   ],
   "source": [
    "# Write a program to calculate gross salary of a person usuing his or her basic salary. ensure the basic salary is a inout propmt\n",
    "# HRA = 20% of basic salary\n",
    "# DA = 50% of basic salary\n",
    "# PF = 11% of basic salary \n",
    "# allowance is 1700 if basic salary \n",
    "#            is greater than rs 10000\n",
    "#            is 1500 if basic salary \n",
    "#            is greatyer than rs 5000\n",
    "#            is 1300 if basic salary\n",
    "#            is greater than rs 25000\n",
    "\n",
    "# gross salary = basic + HRA + DA + allowance - PF\n",
    " 6`  \n",
    "\n",
    "a=float(input(\"Enter your basic salary  :  \"))\n",
    "print()\n",
    "hra=0.2*a\n",
    "print(\"HRA : \",'Rs',hra)\n",
    "da=0.5*a\n",
    "print(\"DA : \",'Rs',da)\n",
    "pf=.1*a\n",
    "print(\"PF : \",'Rs',pf)\n",
    "if a>10000:\n",
    "    allowance=1700\n",
    "elif a>5000:\n",
    "    allowance=1500\n",
    "else:\n",
    "    allowance=1300\n",
    "print(\"Allowance : \",'Rs',allowance)\n",
    "print(\"_____________________________\")\n",
    "gross= (a + hra + da + allowance )- pf\n",
    "print(\"Your gross salary : \",'Rs',gross)\n"
   ]
  },
  {
   "cell_type": "code",
   "execution_count": 1,
   "id": "33496b5c",
   "metadata": {},
   "outputs": [
    {
     "name": "stdout",
     "output_type": "stream",
     "text": [
      "Enter first number  : 8\n",
      "Enter second number : 9\n",
      "_________________________________________________\n",
      "1. The sum of two numbers is        :  17.0\n",
      "2. The difference of two numbers is :  -1.0\n",
      "3. The product of two numbers is    :  72.0\n",
      "4. The quationt of two numbers is   :  0.8888888888888888\n"
     ]
    }
   ],
   "source": [
    "# Build a program that gives basic calculation operation (+, -, *, /) using input promp of two values.\n",
    "\n",
    "a=float(input(\"Enter first number  : \"))\n",
    "b=float(input(\"Enter second number : \"))\n",
    "print(\"\"\"_________________________________________________\"\"\")\n",
    "def calculator(a, b):\n",
    " add=a+b\n",
    " print(\"1. The sum of two numbers is        : \", add)\n",
    " sub=a-b\n",
    " print(\"2. The difference of two numbers is : \", sub)\n",
    " product=a*b\n",
    " print(\"3. The product of two numbers is    : \", product)\n",
    " div=a/b\n",
    " print(\"4. The quationt of two numbers is   : \", div)\n",
    "calculator(a,b)\n"
   ]
  },
  {
   "cell_type": "code",
   "execution_count": 13,
   "id": "b0fd3a51",
   "metadata": {},
   "outputs": [
    {
     "name": "stdout",
     "output_type": "stream",
     "text": [
      "Enter the cofficient of A : 1\n",
      "Ether the cofficient of B : -2\n",
      "Enter the cofficient of C : 1\n",
      "_____________________________________\n",
      "Two equal and real roots exists : \n",
      "Root 1 and Root 2 :  1.0\n"
     ]
    }
   ],
   "source": [
    "# build an input prompt user defined function which gives the roots of theb quadratic equation (ax*2)+bx+c=0 where the constant a , b, and c are obtained bty user :\n",
    "\n",
    "\n",
    "num1=float(input(\"Enter the cofficient of A : \"))\n",
    "num2=float(input(\"Ether the cofficient of B : \"))\n",
    "num3=float(input(\"Enter the cofficient of C : \"))\n",
    "def quadratic_roots(a,b,c):\n",
    "    x=(b**2)-4*a*c\n",
    "    print(\"_____________________________________\")\n",
    "    if x>0:\n",
    "        root1 = (-b + (x**0.5) / (2 * a))\n",
    "        root2 = (-b - (x**0.5) / (2 * a))\n",
    "        print(\"Two distinct real root exists : \")\n",
    "        print(\"Root 1 : \",root1, \"Root 2 : \",root2)\n",
    "    elif x==0:\n",
    "        root1=root2=(-b/2*a)\n",
    "        print(\"Two equal and real roots exists : \")\n",
    "        print(\"Root 1 and Root 2 : \",root1)\n",
    "    else:\n",
    "        print(\"Roots are imaginary\")\n",
    "quadratic_roots(num1,num2,num3)\n",
    "\n"
   ]
  },
  {
   "cell_type": "code",
   "execution_count": 1,
   "id": "ae12bfa5",
   "metadata": {},
   "outputs": [
    {
     "name": "stdout",
     "output_type": "stream",
     "text": [
      "Enter a number: 4\n",
      "You entered: 4\n",
      "Enter a number: 5\n",
      "You entered: 5\n",
      "Enter a number: 8\n",
      "You entered: 8\n",
      "Enter a number: 5000000\n",
      "You entered: 5000000\n",
      "Enter a number: 1\n",
      "You entered: 1\n",
      "Enter a number: -1\n",
      "You entered: -1\n",
      "You have exited the loop.\n"
     ]
    }
   ],
   "source": [
    "num =0\n",
    "while num != -1:\n",
    "    num = int(input(\"Enter a number: \"))\n",
    "    print(\"You entered:\", num)\n",
    "print(\"You have exited the loop.\")"
   ]
  }
 ],
 "metadata": {
  "kernelspec": {
   "display_name": "Python 3 (ipykernel)",
   "language": "python",
   "name": "python3"
  },
  "language_info": {
   "codemirror_mode": {
    "name": "ipython",
    "version": 3
   },
   "file_extension": ".py",
   "mimetype": "text/x-python",
   "name": "python",
   "nbconvert_exporter": "python",
   "pygments_lexer": "ipython3",
   "version": "3.10.9"
  }
 },
 "nbformat": 4,
 "nbformat_minor": 5
}
